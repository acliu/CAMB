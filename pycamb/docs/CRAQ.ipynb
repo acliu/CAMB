{
 "cells": [
  {
   "cell_type": "markdown",
   "metadata": {},
   "source": [
    "# CRAQ Galaxies Summer School Cosmology Exercise"
   ]
  },
  {
   "cell_type": "code",
   "execution_count": null,
   "metadata": {},
   "outputs": [],
   "source": [
    "%matplotlib inline\n",
    "import sys, platform, os\n",
    "from matplotlib import pyplot as plt\n",
    "import numpy as np\n",
    "print('Using CAMB installed at %s'%(os.path.realpath(os.path.join(os.getcwd(),'..'))))\n",
    "#uncomment this if you are running remotely and want to keep in synch with repo changes\n",
    "#if platform.system()!='Windows':\n",
    "#    !cd $HOME/git/camb; git pull github master; git log -1\n",
    "sys.path.insert(0,os.path.realpath(os.path.join(os.getcwd(),'..')))\n",
    "import camb\n",
    "from camb import model, initialpower\n",
    "print('CAMB version: %s '%camb.__version__)"
   ]
  },
  {
   "cell_type": "code",
   "execution_count": null,
   "metadata": {},
   "outputs": [],
   "source": [
    "def plot_pspec(z=0., H0=67.5, ombh2=0.022, omch2=0.122, mnu=0.06, omk=0, ns=0.965, As=2e-09):\n",
    "    pars = camb.CAMBparams()\n",
    "    pars.set_cosmology(H0=H0, ombh2=ombh2, omch2=omch2, mnu=mnu, omk=omk)\n",
    "    pars.set_dark_energy() #re-set defaults\n",
    "    pars.InitPower.set_params(ns=ns, As=As)\n",
    "    pars.set_matter_power(redshifts=[z], kmax=2.0)\n",
    "\n",
    "    #Linear spectra\n",
    "    pars.NonLinear = model.NonLinear_none\n",
    "    results = camb.get_results(pars)\n",
    "    kh, z, pk = results.get_matter_power_spectrum(minkh=1e-4, maxkh=1, npoints = 200)\n",
    "    \n",
    "    for i, (redshift, line) in enumerate(zip(z,['-','--'])):\n",
    "        plt.loglog(kh, pk[i,:], color='k', ls = line)\n",
    "        plt.xlabel('k/h Mpc');\n",
    "        plt.ylabel(r'$P(k)/h^3$ Mpc$^3$')"
   ]
  },
  {
   "cell_type": "code",
   "execution_count": null,
   "metadata": {},
   "outputs": [],
   "source": [
    "plot_pspec(z=0.)"
   ]
  },
  {
   "cell_type": "code",
   "execution_count": null,
   "metadata": {},
   "outputs": [],
   "source": [
    "plot_pspec(z=0., omch2=0.2)"
   ]
  }
 ],
 "metadata": {
  "kernelspec": {
   "display_name": "Python 2",
   "language": "python",
   "name": "python2"
  },
  "language_info": {
   "codemirror_mode": {
    "name": "ipython",
    "version": 2
   },
   "file_extension": ".py",
   "mimetype": "text/x-python",
   "name": "python",
   "nbconvert_exporter": "python",
   "pygments_lexer": "ipython2",
   "version": "2.7.14"
  }
 },
 "nbformat": 4,
 "nbformat_minor": 2
}
